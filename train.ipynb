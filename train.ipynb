{
 "cells": [
  {
   "cell_type": "markdown",
   "metadata": {},
   "source": [
    "# MLflow Training Tutorial\n",
    "\n",
    "This `train.pynb` Jupyter notebook predicts the quality of wine using [sklearn.linear_model.ElasticNet](http://scikit-learn.org/stable/modules/generated/sklearn.linear_model.ElasticNet.html).  \n",
    "\n",
    "> This is the Jupyter notebook version of the `train.py` example\n",
    "\n",
    "Attribution\n",
    "* The data set used in this example is from http://archive.ics.uci.edu/ml/datasets/Wine+Quality\n",
    "* P. Cortez, A. Cerdeira, F. Almeida, T. Matos and J. Reis.\n",
    "* Modeling wine preferences by data mining from physicochemical properties. In Decision Support Systems, Elsevier, 47(4):547-553, 2009.\n"
   ]
  },
  {
   "cell_type": "code",
   "execution_count": 1,
   "metadata": {
    "collapsed": true
   },
   "outputs": [],
   "source": [
    "import os\n",
    "import warnings\n",
    "import sys\n",
    "\n",
    "import pandas as pd\n",
    "import numpy as np\n",
    "\n",
    "import mlflow"
   ]
  },
  {
   "cell_type": "code",
   "execution_count": 2,
   "metadata": {},
   "outputs": [],
   "source": [
    "from train import train"
   ]
  },
  {
   "cell_type": "code",
   "execution_count": 3,
   "metadata": {
    "collapsed": true
   },
   "outputs": [],
   "source": [
    "mlflow.set_tracking_uri('https://gid-mlflow.appspot.com')"
   ]
  },
  {
   "cell_type": "code",
   "execution_count": 4,
   "metadata": {},
   "outputs": [
    {
     "name": "stdout",
     "output_type": "stream",
     "text": [
      "RandomForest model (n_estimators=10, criterion=mse, max_depth=5, min_samples_leaf=100):\n",
      "  RMSE: 0.7232394896332006\n",
      "  MAE: 0.5718319310838061\n",
      "  R2: 0.32440856599531964\n"
     ]
    }
   ],
   "source": [
    "train(10, 'mse', 5, 100)"
   ]
  },
  {
   "cell_type": "code",
   "execution_count": 5,
   "metadata": {},
   "outputs": [
    {
     "name": "stdout",
     "output_type": "stream",
     "text": [
      "RandomForest model (n_estimators=100, criterion=mse, max_depth=5, min_samples_leaf=100):\n",
      "  RMSE: 0.7181980386392155\n",
      "  MAE: 0.5688364033209303\n",
      "  R2: 0.33379436494538484\n"
     ]
    }
   ],
   "source": [
    "train(100, 'mse', 5, 100)"
   ]
  },
  {
   "cell_type": "code",
   "execution_count": 6,
   "metadata": {},
   "outputs": [
    {
     "name": "stdout",
     "output_type": "stream",
     "text": [
      "RandomForest model (n_estimators=100, criterion=mse, max_depth=10, min_samples_leaf=100):\n",
      "  RMSE: 0.7170892232150337\n",
      "  MAE: 0.5670507642899372\n",
      "  R2: 0.3358498672184913\n"
     ]
    }
   ],
   "source": [
    "train(100, 'mse', 10, 100)"
   ]
  },
  {
   "cell_type": "code",
   "execution_count": 7,
   "metadata": {},
   "outputs": [
    {
     "name": "stdout",
     "output_type": "stream",
     "text": [
      "RandomForest model (n_estimators=100, criterion=mse, max_depth=5, min_samples_leaf=50):\n",
      "  RMSE: 0.7029933680179214\n",
      "  MAE: 0.5592862556233429\n",
      "  R2: 0.36170369820963666\n"
     ]
    }
   ],
   "source": [
    "train(100, 'mse', 5, 50)"
   ]
  },
  {
   "cell_type": "code",
   "execution_count": 8,
   "metadata": {},
   "outputs": [
    {
     "name": "stdout",
     "output_type": "stream",
     "text": [
      "RandomForest model (n_estimators=100, criterion=mse, max_depth=5, min_samples_leaf=10):\n",
      "  RMSE: 0.6957291148440388\n",
      "  MAE: 0.5519695817226459\n",
      "  R2: 0.3748269783533582\n"
     ]
    }
   ],
   "source": [
    "train(100, 'mse', 5, 10)"
   ]
  },
  {
   "cell_type": "code",
   "execution_count": 9,
   "metadata": {},
   "outputs": [
    {
     "name": "stdout",
     "output_type": "stream",
     "text": [
      "RandomForest model (n_estimators=100, criterion=mse, max_depth=5, min_samples_leaf=1):\n",
      "  RMSE: 0.6960255220067484\n",
      "  MAE: 0.5534443871137903\n",
      "  R2: 0.3742941697321329\n"
     ]
    }
   ],
   "source": [
    "train(100, 'mse', 5, 1)"
   ]
  },
  {
   "cell_type": "code",
   "execution_count": 10,
   "metadata": {},
   "outputs": [
    {
     "name": "stdout",
     "output_type": "stream",
     "text": [
      "RandomForest model (n_estimators=100, criterion=mse, max_depth=10, min_samples_leaf=10):\n",
      "  RMSE: 0.6527604398337965\n",
      "  MAE: 0.5035381511934496\n",
      "  R2: 0.4496645041744419\n"
     ]
    }
   ],
   "source": [
    "train(100, 'mse', 10, 10)"
   ]
  },
  {
   "cell_type": "code",
   "execution_count": 11,
   "metadata": {},
   "outputs": [
    {
     "name": "stdout",
     "output_type": "stream",
     "text": [
      "RandomForest model (n_estimators=100, criterion=mse, max_depth=20, min_samples_leaf=10):\n",
      "  RMSE: 0.6446068079000254\n",
      "  MAE: 0.4941467459389938\n",
      "  R2: 0.46332712152187105\n"
     ]
    }
   ],
   "source": [
    "train(100, 'mse', 20, 10)"
   ]
  },
  {
   "cell_type": "code",
   "execution_count": 12,
   "metadata": {},
   "outputs": [
    {
     "name": "stdout",
     "output_type": "stream",
     "text": [
      "RandomForest model (n_estimators=100, criterion=mse, max_depth=15, min_samples_leaf=10):\n",
      "  RMSE: 0.644905830345854\n",
      "  MAE: 0.4944867683904041\n",
      "  R2: 0.4628290986771407\n"
     ]
    }
   ],
   "source": [
    "train(100, 'mse', 15, 10)"
   ]
  },
  {
   "cell_type": "code",
   "execution_count": 13,
   "metadata": {},
   "outputs": [
    {
     "name": "stdout",
     "output_type": "stream",
     "text": [
      "RandomForest model (n_estimators=500, criterion=mse, max_depth=15, min_samples_leaf=10):\n",
      "  RMSE: 0.6435238039674076\n",
      "  MAE: 0.494309263777565\n",
      "  R2: 0.4651289348998978\n"
     ]
    }
   ],
   "source": [
    "train(500, 'mse', 15, 10)"
   ]
  },
  {
   "cell_type": "code",
   "execution_count": 14,
   "metadata": {
    "collapsed": true
   },
   "outputs": [],
   "source": [
    "loaded_model = mlflow.pyfunc.load_model('gs://gid-mlflow-artifacts/2/26a29ee08e934a4a8a2e87df96574414/artifacts/model_wine')"
   ]
  },
  {
   "cell_type": "code",
   "execution_count": 15,
   "metadata": {},
   "outputs": [],
   "source": [
    "test_data = pd.read_csv('wine-quality.csv').sample(10)"
   ]
  },
  {
   "cell_type": "code",
   "execution_count": 19,
   "metadata": {},
   "outputs": [
    {
     "data": {
      "text/html": [
       "<div>\n",
       "<style scoped>\n",
       "    .dataframe tbody tr th:only-of-type {\n",
       "        vertical-align: middle;\n",
       "    }\n",
       "\n",
       "    .dataframe tbody tr th {\n",
       "        vertical-align: top;\n",
       "    }\n",
       "\n",
       "    .dataframe thead th {\n",
       "        text-align: right;\n",
       "    }\n",
       "</style>\n",
       "<table border=\"1\" class=\"dataframe\">\n",
       "  <thead>\n",
       "    <tr style=\"text-align: right;\">\n",
       "      <th></th>\n",
       "      <th>real</th>\n",
       "      <th>pred</th>\n",
       "    </tr>\n",
       "  </thead>\n",
       "  <tbody>\n",
       "    <tr>\n",
       "      <th>4324</th>\n",
       "      <td>6</td>\n",
       "      <td>6.127025</td>\n",
       "    </tr>\n",
       "    <tr>\n",
       "      <th>319</th>\n",
       "      <td>6</td>\n",
       "      <td>5.540489</td>\n",
       "    </tr>\n",
       "    <tr>\n",
       "      <th>4489</th>\n",
       "      <td>6</td>\n",
       "      <td>6.768840</td>\n",
       "    </tr>\n",
       "    <tr>\n",
       "      <th>910</th>\n",
       "      <td>5</td>\n",
       "      <td>5.271690</td>\n",
       "    </tr>\n",
       "    <tr>\n",
       "      <th>3006</th>\n",
       "      <td>6</td>\n",
       "      <td>6.183674</td>\n",
       "    </tr>\n",
       "    <tr>\n",
       "      <th>818</th>\n",
       "      <td>5</td>\n",
       "      <td>5.128141</td>\n",
       "    </tr>\n",
       "    <tr>\n",
       "      <th>2011</th>\n",
       "      <td>5</td>\n",
       "      <td>5.279254</td>\n",
       "    </tr>\n",
       "    <tr>\n",
       "      <th>3998</th>\n",
       "      <td>6</td>\n",
       "      <td>5.875551</td>\n",
       "    </tr>\n",
       "    <tr>\n",
       "      <th>793</th>\n",
       "      <td>7</td>\n",
       "      <td>6.575350</td>\n",
       "    </tr>\n",
       "    <tr>\n",
       "      <th>1049</th>\n",
       "      <td>6</td>\n",
       "      <td>6.961622</td>\n",
       "    </tr>\n",
       "  </tbody>\n",
       "</table>\n",
       "</div>"
      ],
      "text/plain": [
       "      real      pred\n",
       "4324     6  6.127025\n",
       "319      6  5.540489\n",
       "4489     6  6.768840\n",
       "910      5  5.271690\n",
       "3006     6  6.183674\n",
       "818      5  5.128141\n",
       "2011     5  5.279254\n",
       "3998     6  5.875551\n",
       "793      7  6.575350\n",
       "1049     6  6.961622"
      ]
     },
     "execution_count": 19,
     "metadata": {},
     "output_type": "execute_result"
    }
   ],
   "source": [
    "pd.DataFrame({'real':test_data['quality'],\n",
    "              'pred':loaded_model.predict(test_data.drop('quality',axis=1))})"
   ]
  },
  {
   "cell_type": "code",
   "execution_count": 17,
   "metadata": {},
   "outputs": [
    {
     "data": {
      "text/plain": [
       "4324    6\n",
       "319     6\n",
       "4489    6\n",
       "910     5\n",
       "3006    6\n",
       "818     5\n",
       "2011    5\n",
       "3998    6\n",
       "793     7\n",
       "1049    6\n",
       "Name: quality, dtype: int64"
      ]
     },
     "execution_count": 17,
     "metadata": {},
     "output_type": "execute_result"
    }
   ],
   "source": [
    "test_data['quality']"
   ]
  },
  {
   "cell_type": "code",
   "execution_count": null,
   "metadata": {},
   "outputs": [],
   "source": []
  }
 ],
 "metadata": {
  "kernelspec": {
   "display_name": "Python 3",
   "language": "python",
   "name": "python3"
  },
  "language_info": {
   "codemirror_mode": {
    "name": "ipython",
    "version": 3
   },
   "file_extension": ".py",
   "mimetype": "text/x-python",
   "name": "python",
   "nbconvert_exporter": "python",
   "pygments_lexer": "ipython3",
   "version": "3.7.3"
  }
 },
 "nbformat": 4,
 "nbformat_minor": 2
}
